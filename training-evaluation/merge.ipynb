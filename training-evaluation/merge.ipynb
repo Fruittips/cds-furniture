{
 "cells": [
  {
   "cell_type": "code",
   "execution_count": 23,
   "metadata": {},
   "outputs": [],
   "source": [
    "import pandas as pd"
   ]
  },
  {
   "cell_type": "code",
   "execution_count": 24,
   "metadata": {},
   "outputs": [],
   "source": [
    "test_df = pd.read_csv('testing_with_blip.csv')\n",
    "training_df= pd.read_csv('training_with_blip.csv')\n",
    "validation_df = pd.read_csv('validation_with_blip.csv')"
   ]
  },
  {
   "cell_type": "code",
   "execution_count": 25,
   "metadata": {},
   "outputs": [
    {
     "data": {
      "text/plain": [
       "((228, 4), (1819, 4), (227, 4))"
      ]
     },
     "execution_count": 25,
     "metadata": {},
     "output_type": "execute_result"
    }
   ],
   "source": [
    "test_df.shape, training_df.shape, validation_df.shape"
   ]
  },
  {
   "cell_type": "code",
   "execution_count": 26,
   "metadata": {},
   "outputs": [],
   "source": [
    "test_df = test_df.drop(test_df.columns[0], axis=1)\n",
    "training_df = training_df.drop(training_df.columns[0], axis=1)\n",
    "validation_df = validation_df.drop(validation_df.columns[0], axis=1)"
   ]
  },
  {
   "cell_type": "code",
   "execution_count": 27,
   "metadata": {},
   "outputs": [
    {
     "data": {
      "text/html": [
       "<div>\n",
       "<style scoped>\n",
       "    .dataframe tbody tr th:only-of-type {\n",
       "        vertical-align: middle;\n",
       "    }\n",
       "\n",
       "    .dataframe tbody tr th {\n",
       "        vertical-align: top;\n",
       "    }\n",
       "\n",
       "    .dataframe thead th {\n",
       "        text-align: right;\n",
       "    }\n",
       "</style>\n",
       "<table border=\"1\" class=\"dataframe\">\n",
       "  <thead>\n",
       "    <tr style=\"text-align: right;\">\n",
       "      <th></th>\n",
       "      <th>group</th>\n",
       "      <th>image_path</th>\n",
       "      <th>blip</th>\n",
       "    </tr>\n",
       "  </thead>\n",
       "  <tbody>\n",
       "    <tr>\n",
       "      <th>0</th>\n",
       "      <td>453</td>\n",
       "      <td>sofas/sofa-beds/91503_image_0_resized.jpg</td>\n",
       "      <td>[0.38693681359291077, 0.19435164332389832, -0....</td>\n",
       "    </tr>\n",
       "    <tr>\n",
       "      <th>1</th>\n",
       "      <td>104</td>\n",
       "      <td>sofas/4-seaters-up/94024_image_0_resized.jpg</td>\n",
       "      <td>[0.6286948919296265, -0.5614968538284302, -0.1...</td>\n",
       "    </tr>\n",
       "    <tr>\n",
       "      <th>2</th>\n",
       "      <td>185</td>\n",
       "      <td>sofas/l-shape/91717_image_0_resized.jpg</td>\n",
       "      <td>[0.42798036336898804, 0.20924703776836395, 0.0...</td>\n",
       "    </tr>\n",
       "    <tr>\n",
       "      <th>3</th>\n",
       "      <td>115</td>\n",
       "      <td>sofas/4-seaters-up/88163_image_0_resized.jpg</td>\n",
       "      <td>[0.021315090358257294, 0.19990620017051697, -0...</td>\n",
       "    </tr>\n",
       "    <tr>\n",
       "      <th>4</th>\n",
       "      <td>811</td>\n",
       "      <td>chairs/office-chairs/25435_image_0_resized.jpg</td>\n",
       "      <td>[0.2223481684923172, 0.12761016190052032, -0.0...</td>\n",
       "    </tr>\n",
       "  </tbody>\n",
       "</table>\n",
       "</div>"
      ],
      "text/plain": [
       "   group                                      image_path  \\\n",
       "0    453       sofas/sofa-beds/91503_image_0_resized.jpg   \n",
       "1    104    sofas/4-seaters-up/94024_image_0_resized.jpg   \n",
       "2    185         sofas/l-shape/91717_image_0_resized.jpg   \n",
       "3    115    sofas/4-seaters-up/88163_image_0_resized.jpg   \n",
       "4    811  chairs/office-chairs/25435_image_0_resized.jpg   \n",
       "\n",
       "                                                blip  \n",
       "0  [0.38693681359291077, 0.19435164332389832, -0....  \n",
       "1  [0.6286948919296265, -0.5614968538284302, -0.1...  \n",
       "2  [0.42798036336898804, 0.20924703776836395, 0.0...  \n",
       "3  [0.021315090358257294, 0.19990620017051697, -0...  \n",
       "4  [0.2223481684923172, 0.12761016190052032, -0.0...  "
      ]
     },
     "metadata": {},
     "output_type": "display_data"
    },
    {
     "data": {
      "text/html": [
       "<div>\n",
       "<style scoped>\n",
       "    .dataframe tbody tr th:only-of-type {\n",
       "        vertical-align: middle;\n",
       "    }\n",
       "\n",
       "    .dataframe tbody tr th {\n",
       "        vertical-align: top;\n",
       "    }\n",
       "\n",
       "    .dataframe thead th {\n",
       "        text-align: right;\n",
       "    }\n",
       "</style>\n",
       "<table border=\"1\" class=\"dataframe\">\n",
       "  <thead>\n",
       "    <tr style=\"text-align: right;\">\n",
       "      <th></th>\n",
       "      <th>group</th>\n",
       "      <th>image_path</th>\n",
       "      <th>blip</th>\n",
       "    </tr>\n",
       "  </thead>\n",
       "  <tbody>\n",
       "    <tr>\n",
       "      <th>0</th>\n",
       "      <td>13</td>\n",
       "      <td>sofas/2-seaters/91513_image_0_resized.jpg</td>\n",
       "      <td>[-0.28666922450065613, -0.6765906810760498, -0...</td>\n",
       "    </tr>\n",
       "    <tr>\n",
       "      <th>1</th>\n",
       "      <td>13</td>\n",
       "      <td>sofas/2-seaters/87437_image_0_resized.jpg</td>\n",
       "      <td>[0.20910055935382843, -0.016624245792627335, 0...</td>\n",
       "    </tr>\n",
       "    <tr>\n",
       "      <th>2</th>\n",
       "      <td>14</td>\n",
       "      <td>sofas/2-seaters/88716_image_0_resized.jpg</td>\n",
       "      <td>[-0.27765217423439026, 0.284512460231781, -0.0...</td>\n",
       "    </tr>\n",
       "    <tr>\n",
       "      <th>3</th>\n",
       "      <td>14</td>\n",
       "      <td>sofas/2-seaters/94018_image_0_resized.jpg</td>\n",
       "      <td>[-0.5567976236343384, 0.18054495751857758, -0....</td>\n",
       "    </tr>\n",
       "    <tr>\n",
       "      <th>4</th>\n",
       "      <td>15</td>\n",
       "      <td>sofas/2-seaters/91579_image_0_resized.jpg</td>\n",
       "      <td>[0.01144308689981699, -0.23772938549518585, -0...</td>\n",
       "    </tr>\n",
       "  </tbody>\n",
       "</table>\n",
       "</div>"
      ],
      "text/plain": [
       "   group                                 image_path  \\\n",
       "0     13  sofas/2-seaters/91513_image_0_resized.jpg   \n",
       "1     13  sofas/2-seaters/87437_image_0_resized.jpg   \n",
       "2     14  sofas/2-seaters/88716_image_0_resized.jpg   \n",
       "3     14  sofas/2-seaters/94018_image_0_resized.jpg   \n",
       "4     15  sofas/2-seaters/91579_image_0_resized.jpg   \n",
       "\n",
       "                                                blip  \n",
       "0  [-0.28666922450065613, -0.6765906810760498, -0...  \n",
       "1  [0.20910055935382843, -0.016624245792627335, 0...  \n",
       "2  [-0.27765217423439026, 0.284512460231781, -0.0...  \n",
       "3  [-0.5567976236343384, 0.18054495751857758, -0....  \n",
       "4  [0.01144308689981699, -0.23772938549518585, -0...  "
      ]
     },
     "metadata": {},
     "output_type": "display_data"
    },
    {
     "data": {
      "text/html": [
       "<div>\n",
       "<style scoped>\n",
       "    .dataframe tbody tr th:only-of-type {\n",
       "        vertical-align: middle;\n",
       "    }\n",
       "\n",
       "    .dataframe tbody tr th {\n",
       "        vertical-align: top;\n",
       "    }\n",
       "\n",
       "    .dataframe thead th {\n",
       "        text-align: right;\n",
       "    }\n",
       "</style>\n",
       "<table border=\"1\" class=\"dataframe\">\n",
       "  <thead>\n",
       "    <tr style=\"text-align: right;\">\n",
       "      <th></th>\n",
       "      <th>group</th>\n",
       "      <th>image_path</th>\n",
       "      <th>blip</th>\n",
       "    </tr>\n",
       "  </thead>\n",
       "  <tbody>\n",
       "    <tr>\n",
       "      <th>0</th>\n",
       "      <td>391</td>\n",
       "      <td>sofas/outdoor-sofas/14619_image_0_resized.jpg</td>\n",
       "      <td>[0.05484333261847496, -0.4026709496974945, 0.1...</td>\n",
       "    </tr>\n",
       "    <tr>\n",
       "      <th>1</th>\n",
       "      <td>93</td>\n",
       "      <td>sofas/3-seaters/46964_image_0_resized.jpg</td>\n",
       "      <td>[-0.2954059839248657, -0.08965714275836945, -0...</td>\n",
       "    </tr>\n",
       "    <tr>\n",
       "      <th>2</th>\n",
       "      <td>61</td>\n",
       "      <td>sofas/3-seaters/92228_image_0_resized.jpg</td>\n",
       "      <td>[0.3323415517807007, -0.3226076364517212, -0.1...</td>\n",
       "    </tr>\n",
       "    <tr>\n",
       "      <th>3</th>\n",
       "      <td>332</td>\n",
       "      <td>sofas/lounge-chairs/49322_image_0_resized.jpg</td>\n",
       "      <td>[-0.1696816384792328, -0.2943868339061737, 0.0...</td>\n",
       "    </tr>\n",
       "    <tr>\n",
       "      <th>4</th>\n",
       "      <td>879</td>\n",
       "      <td>chairs/stools-ottomans/41477_image_0_resized.jpg</td>\n",
       "      <td>[-0.04996024817228317, 0.190990149974823, -0.0...</td>\n",
       "    </tr>\n",
       "  </tbody>\n",
       "</table>\n",
       "</div>"
      ],
      "text/plain": [
       "   group                                        image_path  \\\n",
       "0    391     sofas/outdoor-sofas/14619_image_0_resized.jpg   \n",
       "1     93         sofas/3-seaters/46964_image_0_resized.jpg   \n",
       "2     61         sofas/3-seaters/92228_image_0_resized.jpg   \n",
       "3    332     sofas/lounge-chairs/49322_image_0_resized.jpg   \n",
       "4    879  chairs/stools-ottomans/41477_image_0_resized.jpg   \n",
       "\n",
       "                                                blip  \n",
       "0  [0.05484333261847496, -0.4026709496974945, 0.1...  \n",
       "1  [-0.2954059839248657, -0.08965714275836945, -0...  \n",
       "2  [0.3323415517807007, -0.3226076364517212, -0.1...  \n",
       "3  [-0.1696816384792328, -0.2943868339061737, 0.0...  \n",
       "4  [-0.04996024817228317, 0.190990149974823, -0.0...  "
      ]
     },
     "metadata": {},
     "output_type": "display_data"
    }
   ],
   "source": [
    "display(test_df.head())\n",
    "display(training_df.head())\n",
    "display(validation_df.head())\n"
   ]
  },
  {
   "cell_type": "code",
   "execution_count": 28,
   "metadata": {},
   "outputs": [
    {
     "data": {
      "text/plain": [
       "(2274, 3)"
      ]
     },
     "execution_count": 28,
     "metadata": {},
     "output_type": "execute_result"
    }
   ],
   "source": [
    "# merge all dataframes into one adding all rows\n",
    "all_df = pd.concat([test_df, training_df, validation_df], ignore_index=True)\n",
    "all_df.shape"
   ]
  },
  {
   "cell_type": "code",
   "execution_count": 29,
   "metadata": {},
   "outputs": [
    {
     "data": {
      "text/html": [
       "<div>\n",
       "<style scoped>\n",
       "    .dataframe tbody tr th:only-of-type {\n",
       "        vertical-align: middle;\n",
       "    }\n",
       "\n",
       "    .dataframe tbody tr th {\n",
       "        vertical-align: top;\n",
       "    }\n",
       "\n",
       "    .dataframe thead th {\n",
       "        text-align: right;\n",
       "    }\n",
       "</style>\n",
       "<table border=\"1\" class=\"dataframe\">\n",
       "  <thead>\n",
       "    <tr style=\"text-align: right;\">\n",
       "      <th></th>\n",
       "      <th>group</th>\n",
       "      <th>image_path</th>\n",
       "      <th>blip</th>\n",
       "    </tr>\n",
       "  </thead>\n",
       "  <tbody>\n",
       "    <tr>\n",
       "      <th>0</th>\n",
       "      <td>453</td>\n",
       "      <td>sofas/sofa-beds/91503_image_0_resized.jpg</td>\n",
       "      <td>[0.38693681359291077, 0.19435164332389832, -0....</td>\n",
       "    </tr>\n",
       "    <tr>\n",
       "      <th>1</th>\n",
       "      <td>104</td>\n",
       "      <td>sofas/4-seaters-up/94024_image_0_resized.jpg</td>\n",
       "      <td>[0.6286948919296265, -0.5614968538284302, -0.1...</td>\n",
       "    </tr>\n",
       "    <tr>\n",
       "      <th>2</th>\n",
       "      <td>185</td>\n",
       "      <td>sofas/l-shape/91717_image_0_resized.jpg</td>\n",
       "      <td>[0.42798036336898804, 0.20924703776836395, 0.0...</td>\n",
       "    </tr>\n",
       "    <tr>\n",
       "      <th>3</th>\n",
       "      <td>115</td>\n",
       "      <td>sofas/4-seaters-up/88163_image_0_resized.jpg</td>\n",
       "      <td>[0.021315090358257294, 0.19990620017051697, -0...</td>\n",
       "    </tr>\n",
       "    <tr>\n",
       "      <th>4</th>\n",
       "      <td>811</td>\n",
       "      <td>chairs/office-chairs/25435_image_0_resized.jpg</td>\n",
       "      <td>[0.2223481684923172, 0.12761016190052032, -0.0...</td>\n",
       "    </tr>\n",
       "    <tr>\n",
       "      <th>...</th>\n",
       "      <td>...</td>\n",
       "      <td>...</td>\n",
       "      <td>...</td>\n",
       "    </tr>\n",
       "    <tr>\n",
       "      <th>2269</th>\n",
       "      <td>331</td>\n",
       "      <td>sofas/lounge-chairs/89623_image_0_resized.jpg</td>\n",
       "      <td>[0.1230996698141098, -0.3463379740715027, -0.4...</td>\n",
       "    </tr>\n",
       "    <tr>\n",
       "      <th>2270</th>\n",
       "      <td>87</td>\n",
       "      <td>sofas/3-seaters/91602_image_0_resized.jpg</td>\n",
       "      <td>[0.43745896220207214, -0.024218738079071045, 0...</td>\n",
       "    </tr>\n",
       "    <tr>\n",
       "      <th>2271</th>\n",
       "      <td>316</td>\n",
       "      <td>sofas/leather-sofas/88717_image_0_resized.jpg</td>\n",
       "      <td>[-0.11025682836771011, -0.4462471008300781, -0...</td>\n",
       "    </tr>\n",
       "    <tr>\n",
       "      <th>2272</th>\n",
       "      <td>856</td>\n",
       "      <td>chairs/office-chairs/79309_image_0_resized.jpg</td>\n",
       "      <td>[-0.0018005091696977615, -0.367832213640213, 0...</td>\n",
       "    </tr>\n",
       "    <tr>\n",
       "      <th>2273</th>\n",
       "      <td>314</td>\n",
       "      <td>sofas/leather-sofas/91684_image_0_resized.jpg</td>\n",
       "      <td>[-0.1742977797985077, -0.5113781690597534, 0.1...</td>\n",
       "    </tr>\n",
       "  </tbody>\n",
       "</table>\n",
       "<p>2274 rows × 3 columns</p>\n",
       "</div>"
      ],
      "text/plain": [
       "      group                                      image_path  \\\n",
       "0       453       sofas/sofa-beds/91503_image_0_resized.jpg   \n",
       "1       104    sofas/4-seaters-up/94024_image_0_resized.jpg   \n",
       "2       185         sofas/l-shape/91717_image_0_resized.jpg   \n",
       "3       115    sofas/4-seaters-up/88163_image_0_resized.jpg   \n",
       "4       811  chairs/office-chairs/25435_image_0_resized.jpg   \n",
       "...     ...                                             ...   \n",
       "2269    331   sofas/lounge-chairs/89623_image_0_resized.jpg   \n",
       "2270     87       sofas/3-seaters/91602_image_0_resized.jpg   \n",
       "2271    316   sofas/leather-sofas/88717_image_0_resized.jpg   \n",
       "2272    856  chairs/office-chairs/79309_image_0_resized.jpg   \n",
       "2273    314   sofas/leather-sofas/91684_image_0_resized.jpg   \n",
       "\n",
       "                                                   blip  \n",
       "0     [0.38693681359291077, 0.19435164332389832, -0....  \n",
       "1     [0.6286948919296265, -0.5614968538284302, -0.1...  \n",
       "2     [0.42798036336898804, 0.20924703776836395, 0.0...  \n",
       "3     [0.021315090358257294, 0.19990620017051697, -0...  \n",
       "4     [0.2223481684923172, 0.12761016190052032, -0.0...  \n",
       "...                                                 ...  \n",
       "2269  [0.1230996698141098, -0.3463379740715027, -0.4...  \n",
       "2270  [0.43745896220207214, -0.024218738079071045, 0...  \n",
       "2271  [-0.11025682836771011, -0.4462471008300781, -0...  \n",
       "2272  [-0.0018005091696977615, -0.367832213640213, 0...  \n",
       "2273  [-0.1742977797985077, -0.5113781690597534, 0.1...  \n",
       "\n",
       "[2274 rows x 3 columns]"
      ]
     },
     "execution_count": 29,
     "metadata": {},
     "output_type": "execute_result"
    }
   ],
   "source": [
    "all_df"
   ]
  },
  {
   "cell_type": "code",
   "execution_count": 30,
   "metadata": {},
   "outputs": [
    {
     "data": {
      "text/plain": [
       "(2274, 3)"
      ]
     },
     "execution_count": 30,
     "metadata": {},
     "output_type": "execute_result"
    }
   ],
   "source": [
    "# see if any duplicate image_path\n",
    "all_df[all_df.duplicated(subset='image_path')]\n",
    "all_df = all_df.drop_duplicates(subset='image_path')\n",
    "all_df.shape"
   ]
  },
  {
   "cell_type": "code",
   "execution_count": 31,
   "metadata": {},
   "outputs": [],
   "source": [
    "# save merged dataframe\n",
    "all_df.to_csv('all_with_blip.csv')"
   ]
  },
  {
   "cell_type": "code",
   "execution_count": null,
   "metadata": {},
   "outputs": [],
   "source": []
  }
 ],
 "metadata": {
  "kernelspec": {
   "display_name": "cds",
   "language": "python",
   "name": "python3"
  },
  "language_info": {
   "codemirror_mode": {
    "name": "ipython",
    "version": 3
   },
   "file_extension": ".py",
   "mimetype": "text/x-python",
   "name": "python",
   "nbconvert_exporter": "python",
   "pygments_lexer": "ipython3",
   "version": "3.10.4"
  }
 },
 "nbformat": 4,
 "nbformat_minor": 2
}
