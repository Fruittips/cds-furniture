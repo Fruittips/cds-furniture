{
 "cells": [
  {
   "cell_type": "markdown",
   "id": "9a9d63ed",
   "metadata": {
    "papermill": {
     "duration": 0.005456,
     "end_time": "2024-04-09T09:35:12.620128",
     "exception": false,
     "start_time": "2024-04-09T09:35:12.614672",
     "status": "completed"
    },
    "tags": []
   },
   "source": [
    "## Imports"
   ]
  },
  {
   "cell_type": "code",
   "execution_count": null,
   "id": "da3e9838",
   "metadata": {
    "_cell_guid": "b1076dfc-b9ad-4769-8c92-a6c4dae69d19",
    "_uuid": "8f2839f25d086af736a60e9eeb907d3b93b6e0e5",
    "execution": {
     "iopub.execute_input": "2024-04-09T09:35:12.633492Z",
     "iopub.status.busy": "2024-04-09T09:35:12.632674Z",
     "iopub.status.idle": "2024-04-09T09:35:23.030707Z",
     "shell.execute_reply": "2024-04-09T09:35:23.029441Z"
    },
    "papermill": {
     "duration": 10.407974,
     "end_time": "2024-04-09T09:35:23.033586",
     "exception": false,
     "start_time": "2024-04-09T09:35:12.625612",
     "status": "completed"
    },
    "tags": []
   },
   "outputs": [],
   "source": [
    "import pandas as pd\n",
    "import torch\n",
    "from torch.utils.data import Dataset, DataLoader\n",
    "import torch\n",
    "import torch.nn as nn\n",
    "import ast\n",
    "import numpy as np\n",
    "import torch.optim as optim"
   ]
  },
  {
   "cell_type": "markdown",
   "id": "70427675",
   "metadata": {
    "papermill": {
     "duration": 0.00533,
     "end_time": "2024-04-09T09:35:23.055830",
     "exception": false,
     "start_time": "2024-04-09T09:35:23.050500",
     "status": "completed"
    },
    "tags": []
   },
   "source": [
    "# Define and train siamese network"
   ]
  },
  {
   "cell_type": "code",
   "execution_count": null,
   "id": "e3e6ea46",
   "metadata": {
    "execution": {
     "iopub.execute_input": "2024-04-09T09:35:23.069532Z",
     "iopub.status.busy": "2024-04-09T09:35:23.068545Z",
     "iopub.status.idle": "2024-04-09T09:35:23.076034Z",
     "shell.execute_reply": "2024-04-09T09:35:23.075137Z"
    },
    "papermill": {
     "duration": 0.017162,
     "end_time": "2024-04-09T09:35:23.078510",
     "exception": false,
     "start_time": "2024-04-09T09:35:23.061348",
     "status": "completed"
    },
    "tags": []
   },
   "outputs": [],
   "source": [
    "class SiameseNetwork(nn.Module):\n",
    "    def __init__(self, input_size, embedding_size=128):\n",
    "        super(SiameseNetwork, self).__init__()\n",
    "        self.fc = nn.Sequential(\n",
    "            nn.Linear(input_size, 512),\n",
    "            nn.ReLU(),\n",
    "            nn.Dropout(p=0.2),\n",
    "            nn.Linear(512, 256),\n",
    "            nn.ReLU(),\n",
    "            nn.Dropout(p=0.2),\n",
    "            nn.Linear(256, embedding_size),\n",
    "        )\n",
    "    \n",
    "    def forward(self, x):\n",
    "        x = self.fc(x)\n",
    "        return x"
   ]
  },
  {
   "cell_type": "code",
   "execution_count": null,
   "id": "8417855d",
   "metadata": {
    "execution": {
     "iopub.execute_input": "2024-04-09T09:35:23.091766Z",
     "iopub.status.busy": "2024-04-09T09:35:23.091021Z",
     "iopub.status.idle": "2024-04-09T09:35:23.098413Z",
     "shell.execute_reply": "2024-04-09T09:35:23.097336Z"
    },
    "papermill": {
     "duration": 0.016458,
     "end_time": "2024-04-09T09:35:23.100605",
     "exception": false,
     "start_time": "2024-04-09T09:35:23.084147",
     "status": "completed"
    },
    "tags": []
   },
   "outputs": [],
   "source": [
    "class TripletLoss(nn.Module):\n",
    "    def __init__(self, margin=1.0):\n",
    "        super(TripletLoss, self).__init__()\n",
    "        self.margin = margin\n",
    "    \n",
    "    def forward(self, anchor, positive, negative):\n",
    "        distance_positive = (anchor - positive).pow(2).sum(1)\n",
    "        distance_negative = (anchor - negative).pow(2).sum(1)\n",
    "        losses = torch.relu(distance_positive - distance_negative + self.margin)\n",
    "        return losses.mean()"
   ]
  },
  {
   "cell_type": "code",
   "execution_count": null,
   "id": "efe596a0",
   "metadata": {
    "execution": {
     "iopub.execute_input": "2024-04-09T09:35:23.113855Z",
     "iopub.status.busy": "2024-04-09T09:35:23.112983Z",
     "iopub.status.idle": "2024-04-09T09:35:23.124380Z",
     "shell.execute_reply": "2024-04-09T09:35:23.123384Z"
    },
    "papermill": {
     "duration": 0.020933,
     "end_time": "2024-04-09T09:35:23.127043",
     "exception": false,
     "start_time": "2024-04-09T09:35:23.106110",
     "status": "completed"
    },
    "tags": []
   },
   "outputs": [],
   "source": [
    "class TripletFeatureDataset(Dataset):\n",
    "    def __init__(self, df_dataset, df_blip):\n",
    "        self.df_blip = df_blip.set_index('image_path')\n",
    "        self.blip_vector_cache = {}\n",
    "        \n",
    "        print(\"start\")\n",
    "        self.anchor_paths = df_dataset['anchor'].values\n",
    "        print('1')\n",
    "        self.similar_paths = df_dataset['similar'].values\n",
    "        print('2')\n",
    "        self.dissimilar_paths = df_dataset['dissimilar'].values\n",
    "        print('end')\n",
    "\n",
    "    def __getitem__(self, index):\n",
    "        anchor_vector = self.get_blip_vector(self.anchor_paths[index])\n",
    "        positive_vector = self.get_blip_vector(self.similar_paths[index])\n",
    "        negative_vector = self.get_blip_vector(self.dissimilar_paths[index])\n",
    "  \n",
    "        anchor = torch.FloatTensor(anchor_vector)\n",
    "        positive = torch.FloatTensor(positive_vector)\n",
    "        negative = torch.FloatTensor(negative_vector)\n",
    "        \n",
    "        return anchor, positive, negative\n",
    "    \n",
    "    def __len__(self):\n",
    "        return len(self.anchor_paths)\n",
    "    \n",
    "    def get_blip_vector(self, img_path):\n",
    "        if img_path in self.blip_vector_cache:\n",
    "            return self.blip_vector_cache[img_path]\n",
    "        \n",
    "        vector = ast.literal_eval(self.df_blip.loc[img_path, 'blip'] if img_path in self.df_blip.index else np.nan)\n",
    "        self.blip_vector_cache[img_path] = vector\n",
    "        return vector\n"
   ]
  },
  {
   "cell_type": "code",
   "execution_count": null,
   "id": "35cd32de",
   "metadata": {
    "execution": {
     "iopub.execute_input": "2024-04-09T09:35:23.161835Z",
     "iopub.status.busy": "2024-04-09T09:35:23.160602Z",
     "iopub.status.idle": "2024-04-09T09:35:23.171893Z",
     "shell.execute_reply": "2024-04-09T09:35:23.170794Z"
    },
    "papermill": {
     "duration": 0.020617,
     "end_time": "2024-04-09T09:35:23.174343",
     "exception": false,
     "start_time": "2024-04-09T09:35:23.153726",
     "status": "completed"
    },
    "tags": []
   },
   "outputs": [],
   "source": [
    "import os\n",
    "import matplotlib.pyplot as plt\n",
    "\n",
    "def save_model_weights(model, epoch, total_epoch, save_directory=\"model_weights\"):\n",
    "    directory_path = f\"/kaggle/working/{save_directory}\"\n",
    "    if not os.path.exists(directory_path):\n",
    "        os.makedirs(directory_path)\n",
    "    \n",
    "    file_path = f\"/kaggle/working/{save_directory}/model_{total_epoch}_epoch_{epoch}.pt\"\n",
    "    torch.save(model.state_dict(), file_path)\n",
    "\n",
    "\n",
    "def plot_loss(all_losses, current_epoch, total_epochs, save_directory=\"loss_plots\", show=True):\n",
    "    plt.figure(figsize=(10, 6))\n",
    "    steps = range(1, len(all_losses) + 1)\n",
    "    plt.plot(steps, all_losses, label='Loss per Step')\n",
    "    plt.xlabel('Step')\n",
    "    plt.ylabel('Loss')\n",
    "    plt.title(f'Loss per Step up to Epoch {current_epoch}/{total_epochs}')\n",
    "    plt.legend()\n",
    "    plt.grid(True)\n",
    "    \n",
    "    # Ensure the save directory exists\n",
    "    directory_path = f\"/kaggle/working/{save_directory}\"\n",
    "    if not os.path.exists(directory_path):\n",
    "        os.makedirs(directory_path)\n",
    "    \n",
    "    # Save the plot\n",
    "    plt.savefig(f\"{directory_path}/loss_per_step_up_to_epoch_{current_epoch}.png\")\n",
    "    \n",
    "    if show:\n",
    "        plt.show()\n",
    "    plt.close()\n"
   ]
  },
  {
   "cell_type": "markdown",
   "id": "c5b81050",
   "metadata": {},
   "source": [
    "## Load full training triplets dataset"
   ]
  },
  {
   "cell_type": "code",
   "execution_count": null,
   "id": "b05f884b",
   "metadata": {
    "execution": {
     "iopub.execute_input": "2024-04-09T09:35:23.187844Z",
     "iopub.status.busy": "2024-04-09T09:35:23.186832Z",
     "iopub.status.idle": "2024-04-09T09:35:38.624464Z",
     "shell.execute_reply": "2024-04-09T09:35:38.623069Z"
    },
    "papermill": {
     "duration": 15.447898,
     "end_time": "2024-04-09T09:35:38.627732",
     "exception": false,
     "start_time": "2024-04-09T09:35:23.179834",
     "status": "completed"
    },
    "tags": []
   },
   "outputs": [],
   "source": [
    "device = torch.device(\"cuda\" if torch.cuda.is_available() else \"cpu\")\n",
    "\n",
    "dataset_path = '/kaggle/input/new-cds-triplets/training_triplets.csv'\n",
    "dataset_blip_path = '/kaggle/input/new-cds-triplets-images/training_with_blip.csv'\n",
    "\n",
    "df_training_triplets = pd.read_csv(dataset_path)\n",
    "df_training_blip = pd.read_csv(dataset_blip_path)"
   ]
  },
  {
   "cell_type": "code",
   "execution_count": null,
   "id": "2fb81fa1",
   "metadata": {
    "execution": {
     "iopub.execute_input": "2024-04-09T09:35:38.641046Z",
     "iopub.status.busy": "2024-04-09T09:35:38.640225Z",
     "iopub.status.idle": "2024-04-09T09:35:38.646292Z",
     "shell.execute_reply": "2024-04-09T09:35:38.645177Z"
    },
    "papermill": {
     "duration": 0.015686,
     "end_time": "2024-04-09T09:35:38.649020",
     "exception": false,
     "start_time": "2024-04-09T09:35:38.633334",
     "status": "completed"
    },
    "tags": []
   },
   "outputs": [],
   "source": [
    "EPOCHS = 5\n",
    "BATCH_SIZE=512"
   ]
  },
  {
   "cell_type": "markdown",
   "id": "43e1422e",
   "metadata": {},
   "source": [
    "## Train"
   ]
  },
  {
   "cell_type": "code",
   "execution_count": null,
   "id": "81b073e1",
   "metadata": {
    "execution": {
     "iopub.execute_input": "2024-04-09T09:35:38.662122Z",
     "iopub.status.busy": "2024-04-09T09:35:38.661717Z",
     "iopub.status.idle": "2024-04-09T12:57:46.717591Z",
     "shell.execute_reply": "2024-04-09T12:57:46.716139Z"
    },
    "papermill": {
     "duration": 12128.065473,
     "end_time": "2024-04-09T12:57:46.720187",
     "exception": false,
     "start_time": "2024-04-09T09:35:38.654714",
     "status": "completed"
    },
    "tags": []
   },
   "outputs": [],
   "source": [
    "from tqdm import tqdm\n",
    "\n",
    "# update: blip output size is 768\n",
    "siamese_model = SiameseNetwork(input_size=768, embedding_size=128).to(device)\n",
    "siamese_model.train()\n",
    "criterion = TripletLoss(margin=1.0)\n",
    "optimizer = optim.Adam(siamese_model.parameters(), lr=0.00000005)\n",
    "\n",
    "total_loss = 0 # To track loss over the entire training\n",
    "losses = []  # To store loss at each step or at save intervals\n",
    "\n",
    "train_dataset = TripletFeatureDataset(df_training_triplets, df_training_blip)\n",
    "train_dataloader = DataLoader(train_dataset, batch_size=BATCH_SIZE, shuffle=True)\n",
    "\n",
    "for epoch in range(EPOCHS):\n",
    "    \n",
    "    progress_bar = tqdm(enumerate(train_dataloader), total=len(train_dataloader), desc=f\"Epoch {epoch+1}/{EPOCHS}\")\n",
    "    \n",
    "    for i, data in progress_bar:\n",
    "        anchor, positive, negative = data\n",
    "        anchor, positive, negative = anchor.to(device), positive.to(device), negative.to(device)\n",
    "\n",
    "        optimizer.zero_grad()\n",
    "\n",
    "        anchor_output = siamese_model(anchor)\n",
    "        positive_output = siamese_model(positive)\n",
    "        negative_output = siamese_model(negative)\n",
    "\n",
    "        loss = criterion(anchor_output, positive_output, negative_output)\n",
    "        loss.backward()\n",
    "        optimizer.step()\n",
    "\n",
    "        total_loss += loss.item()\n",
    "        losses.append(loss.item())\n",
    "        \n",
    "        progress_bar.set_postfix(loss=loss.item())\n",
    "\n",
    "    print(f\"Epoch {epoch+1}, Average Loss: {sum(losses)/len(losses)}\")\n",
    "    save_model_weights(siamese_model, epoch, EPOCHS)\n",
    "    print(f'Epoch {epoch+1} done saving weights')\n",
    "    plot_loss(losses, epoch+1, EPOCHS)\n",
    "    "
   ]
  },
  {
   "cell_type": "code",
   "execution_count": null,
   "id": "e1df299d",
   "metadata": {
    "papermill": {
     "duration": 9.608389,
     "end_time": "2024-04-09T12:58:05.748392",
     "exception": false,
     "start_time": "2024-04-09T12:57:56.140003",
     "status": "completed"
    },
    "tags": []
   },
   "outputs": [],
   "source": []
  }
 ],
 "metadata": {
  "kaggle": {
   "accelerator": "none",
   "dataSources": [
    {
     "datasetId": 4557559,
     "sourceId": 7987579,
     "sourceType": "datasetVersion"
    },
    {
     "datasetId": 4696398,
     "sourceId": 7987586,
     "sourceType": "datasetVersion"
    },
    {
     "datasetId": 4699787,
     "sourceId": 8059589,
     "sourceType": "datasetVersion"
    },
    {
     "datasetId": 4699204,
     "sourceId": 8059912,
     "sourceType": "datasetVersion"
    },
    {
     "modelInstanceId": 22224,
     "sourceId": 26660,
     "sourceType": "modelInstanceVersion"
    }
   ],
   "dockerImageVersionId": 30674,
   "isGpuEnabled": false,
   "isInternetEnabled": true,
   "language": "python",
   "sourceType": "notebook"
  },
  "kernelspec": {
   "display_name": "Python 3",
   "language": "python",
   "name": "python3"
  },
  "language_info": {
   "codemirror_mode": {
    "name": "ipython",
    "version": 3
   },
   "file_extension": ".py",
   "mimetype": "text/x-python",
   "name": "python",
   "nbconvert_exporter": "python",
   "pygments_lexer": "ipython3",
   "version": "3.10.13"
  },
  "papermill": {
   "default_parameters": {},
   "duration": 12188.11951,
   "end_time": "2024-04-09T12:58:17.032113",
   "environment_variables": {},
   "exception": null,
   "input_path": "__notebook__.ipynb",
   "output_path": "__notebook__.ipynb",
   "parameters": {},
   "start_time": "2024-04-09T09:35:08.912603",
   "version": "2.5.0"
  }
 },
 "nbformat": 4,
 "nbformat_minor": 5
}
